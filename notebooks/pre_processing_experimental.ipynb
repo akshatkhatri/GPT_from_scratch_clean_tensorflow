{
 "cells": [
  {
   "cell_type": "code",
   "execution_count": 13,
   "id": "30341c7a",
   "metadata": {},
   "outputs": [],
   "source": [
    "import tensorflow as tf\n",
    "import keras"
   ]
  },
  {
   "cell_type": "code",
   "execution_count": 14,
   "id": "887b63e9",
   "metadata": {},
   "outputs": [
    {
     "data": {
      "text/plain": [
       "<_TensorSliceDataset element_spec=TensorSpec(shape=(), dtype=tf.int32, name=None)>"
      ]
     },
     "execution_count": 14,
     "metadata": {},
     "output_type": "execute_result"
    }
   ],
   "source": [
    "X = tf.range(10)\n",
    "dataset = tf.data.Dataset.from_tensor_slices(X)\n",
    "dataset"
   ]
  },
  {
   "cell_type": "code",
   "execution_count": 15,
   "id": "29fb2f0a",
   "metadata": {},
   "outputs": [
    {
     "name": "stdout",
     "output_type": "stream",
     "text": [
      "tf.Tensor(0, shape=(), dtype=int32)\n",
      "tf.Tensor(1, shape=(), dtype=int32)\n",
      "tf.Tensor(2, shape=(), dtype=int32)\n",
      "tf.Tensor(3, shape=(), dtype=int32)\n",
      "tf.Tensor(4, shape=(), dtype=int32)\n",
      "tf.Tensor(5, shape=(), dtype=int32)\n",
      "tf.Tensor(6, shape=(), dtype=int32)\n",
      "tf.Tensor(7, shape=(), dtype=int32)\n",
      "tf.Tensor(8, shape=(), dtype=int32)\n",
      "tf.Tensor(9, shape=(), dtype=int32)\n"
     ]
    },
    {
     "name": "stderr",
     "output_type": "stream",
     "text": [
      "2025-08-23 07:08:37.995158: I tensorflow/core/framework/local_rendezvous.cc:407] Local rendezvous is aborting with status: OUT_OF_RANGE: End of sequence\n"
     ]
    }
   ],
   "source": [
    "for item in dataset:\n",
    "    print(item)"
   ]
  },
  {
   "cell_type": "code",
   "execution_count": 16,
   "id": "a4907b99",
   "metadata": {},
   "outputs": [
    {
     "name": "stdout",
     "output_type": "stream",
     "text": [
      "tf.Tensor([0 1 2 3 4 5 6], shape=(7,), dtype=int32)\n",
      "tf.Tensor([7 8 9 0 1 2 3], shape=(7,), dtype=int32)\n",
      "tf.Tensor([4 5 6 7 8 9 0], shape=(7,), dtype=int32)\n",
      "tf.Tensor([1 2 3 4 5 6 7], shape=(7,), dtype=int32)\n",
      "tf.Tensor([8 9], shape=(2,), dtype=int32)\n"
     ]
    }
   ],
   "source": [
    "dataset = dataset.repeat(3).batch(7)\n",
    "for item in dataset:\n",
    "    print(item)"
   ]
  },
  {
   "cell_type": "code",
   "execution_count": 17,
   "id": "c4b3b630",
   "metadata": {},
   "outputs": [
    {
     "data": {
      "text/plain": [
       "<_MapDataset element_spec=TensorSpec(shape=(None,), dtype=tf.int32, name=None)>"
      ]
     },
     "execution_count": 17,
     "metadata": {},
     "output_type": "execute_result"
    }
   ],
   "source": [
    "dataset = dataset.map(lambda x : x ** 2)\n",
    "dataset"
   ]
  },
  {
   "cell_type": "code",
   "execution_count": 18,
   "id": "fc9c4fd0",
   "metadata": {},
   "outputs": [
    {
     "name": "stdout",
     "output_type": "stream",
     "text": [
      "tf.Tensor([ 0  1  4  9 16 25 36], shape=(7,), dtype=int32)\n",
      "tf.Tensor([49 64 81  0  1  4  9], shape=(7,), dtype=int32)\n",
      "tf.Tensor([16 25 36 49 64 81  0], shape=(7,), dtype=int32)\n",
      "tf.Tensor([ 1  4  9 16 25 36 49], shape=(7,), dtype=int32)\n",
      "tf.Tensor([64 81], shape=(2,), dtype=int32)\n"
     ]
    }
   ],
   "source": [
    "for item in dataset:\n",
    "    print(item)"
   ]
  },
  {
   "cell_type": "code",
   "execution_count": 19,
   "id": "9d178990",
   "metadata": {},
   "outputs": [],
   "source": [
    "def some_func(X):\n",
    "    y = 10\n",
    "    return X + y"
   ]
  },
  {
   "cell_type": "code",
   "execution_count": 20,
   "id": "0a3fef30",
   "metadata": {},
   "outputs": [
    {
     "name": "stdout",
     "output_type": "stream",
     "text": [
      "tf.Tensor([10 11 14 19 26 35 46], shape=(7,), dtype=int32)\n",
      "tf.Tensor([59 74 91 10 11 14 19], shape=(7,), dtype=int32)\n",
      "tf.Tensor([26 35 46 59 74 91 10], shape=(7,), dtype=int32)\n",
      "tf.Tensor([11 14 19 26 35 46 59], shape=(7,), dtype=int32)\n",
      "tf.Tensor([74 91], shape=(2,), dtype=int32)\n"
     ]
    }
   ],
   "source": [
    "dataset = dataset.map(some_func)\n",
    "for item in dataset:\n",
    "    print(item)"
   ]
  },
  {
   "cell_type": "code",
   "execution_count": 24,
   "id": "a960c4ff",
   "metadata": {},
   "outputs": [
    {
     "name": "stdout",
     "output_type": "stream",
     "text": [
      "tf.Tensor([59 74 91 10 11 14 19], shape=(7,), dtype=int32)\n",
      "tf.Tensor([26 35 46 59 74 91 10], shape=(7,), dtype=int32)\n",
      "tf.Tensor([11 14 19 26 35 46 59], shape=(7,), dtype=int32)\n"
     ]
    }
   ],
   "source": [
    "dataset = dataset.filter(lambda x : tf.reduce_sum(x) > 200)\n",
    "for item in dataset:\n",
    "    print(item)"
   ]
  },
  {
   "cell_type": "code",
   "execution_count": 38,
   "id": "e9752d43",
   "metadata": {},
   "outputs": [
    {
     "name": "stdout",
     "output_type": "stream",
     "text": [
      "tf.Tensor([0 1 3 4 5 2 6], shape=(7,), dtype=int64)\n",
      "tf.Tensor([0 9 1 7 2 3 8], shape=(7,), dtype=int64)\n",
      "tf.Tensor([5 8 7 9 4 6], shape=(6,), dtype=int64)\n"
     ]
    }
   ],
   "source": [
    "dataset = tf.data.Dataset.range(10).repeat(2)\n",
    "dataset = dataset.shuffle(buffer_size=4,seed = 42,reshuffle_each_iteration=False).batch(7)\n",
    "for item in dataset:\n",
    "    print(item)"
   ]
  },
  {
   "cell_type": "code",
   "execution_count": 41,
   "id": "d753fb02",
   "metadata": {},
   "outputs": [
    {
     "name": "stdout",
     "output_type": "stream",
     "text": [
      "tf.Tensor([0 1 3 4 5 2 6], shape=(7,), dtype=int64)\n",
      "tf.Tensor([0 9 1 7 2 3 8], shape=(7,), dtype=int64)\n",
      "tf.Tensor([5 8 7 9 4 6], shape=(6,), dtype=int64)\n",
      "tf.Tensor([0 1 3 4 5 2 6], shape=(7,), dtype=int64)\n",
      "tf.Tensor([0 9 1 7 2 3 8], shape=(7,), dtype=int64)\n",
      "tf.Tensor([5 8 7 9 4 6], shape=(6,), dtype=int64)\n"
     ]
    }
   ],
   "source": [
    "for item in dataset.repeat(2):\n",
    "    print(item)"
   ]
  },
  {
   "cell_type": "code",
   "execution_count": 44,
   "id": "6c3f4ebe",
   "metadata": {},
   "outputs": [],
   "source": [
    "with tf.io.TFRecordWriter('dummy.tfrecord') as f:\n",
    "    f.write(b'This is first record')\n",
    "    f.write(b'This is second record')"
   ]
  },
  {
   "cell_type": "code",
   "execution_count": null,
   "id": "93420937",
   "metadata": {},
   "outputs": [
    {
     "name": "stdout",
     "output_type": "stream",
     "text": [
      "tf.Tensor(b'This is first record', shape=(), dtype=string)\n",
      "tf.Tensor(b'This is second record', shape=(), dtype=string)\n"
     ]
    },
    {
     "name": "stderr",
     "output_type": "stream",
     "text": [
      "2025-08-23 09:28:43.881805: I tensorflow/core/framework/local_rendezvous.cc:407] Local rendezvous is aborting with status: OUT_OF_RANGE: End of sequence\n"
     ]
    }
   ],
   "source": [
    "data = tf.data.TFRecordDataset('dummy.tfrecord',num_parallel_reads=2)\n",
    "for item in data:\n",
    "    print(item)"
   ]
  },
  {
   "cell_type": "code",
   "execution_count": 48,
   "id": "449105fc",
   "metadata": {},
   "outputs": [],
   "source": [
    "options = tf.io.TFRecordOptions(compression_type=\"GZIP\")\n",
    "with tf.io.TFRecordWriter(\"my_compressed.tfrecord\", options) as f:\n",
    "    f.write(b\"Compress, compress, compress!\")"
   ]
  },
  {
   "cell_type": "code",
   "execution_count": 49,
   "id": "2e9c0fea",
   "metadata": {},
   "outputs": [
    {
     "name": "stdout",
     "output_type": "stream",
     "text": [
      "tf.Tensor([0 1 3 4 5 2 6], shape=(7,), dtype=int64)\n",
      "tf.Tensor([0 9 1 7 2 3 8], shape=(7,), dtype=int64)\n",
      "tf.Tensor([5 8 7 9 4 6], shape=(6,), dtype=int64)\n"
     ]
    }
   ],
   "source": [
    "for item in dataset:\n",
    "    print(item)"
   ]
  },
  {
   "cell_type": "code",
   "execution_count": 53,
   "id": "7ebb5ed6",
   "metadata": {},
   "outputs": [
    {
     "data": {
      "text/plain": [
       "name: \"Al\"\n",
       "id: 123\n",
       "email: \"a@b.com\""
      ]
     },
     "execution_count": 53,
     "metadata": {},
     "output_type": "execute_result"
    }
   ],
   "source": [
    "from sample_pb2 import Person\n",
    "\n",
    "person = Person(name = 'Al' , id = 123 , email = ['a@b.com'])\n",
    "person"
   ]
  },
  {
   "cell_type": "code",
   "execution_count": 55,
   "id": "a40ae470",
   "metadata": {},
   "outputs": [
    {
     "data": {
      "text/plain": [
       "'Al'"
      ]
     },
     "execution_count": 55,
     "metadata": {},
     "output_type": "execute_result"
    }
   ],
   "source": [
    "person.name"
   ]
  },
  {
   "cell_type": "code",
   "execution_count": 56,
   "id": "74aa8141",
   "metadata": {},
   "outputs": [
    {
     "data": {
      "text/plain": [
       "b'\\n\\x02Al\\x10{\\x1a\\x07a@b.com'"
      ]
     },
     "execution_count": 56,
     "metadata": {},
     "output_type": "execute_result"
    }
   ],
   "source": [
    "serialized = person.SerializeToString()\n",
    "serialized"
   ]
  },
  {
   "cell_type": "code",
   "execution_count": 58,
   "id": "0a313467",
   "metadata": {},
   "outputs": [
    {
     "data": {
      "text/plain": []
     },
     "execution_count": 58,
     "metadata": {},
     "output_type": "execute_result"
    }
   ],
   "source": [
    "person2 = Person()\n",
    "person2"
   ]
  },
  {
   "cell_type": "code",
   "execution_count": 61,
   "id": "76196db4",
   "metadata": {},
   "outputs": [
    {
     "data": {
      "text/plain": [
       "15"
      ]
     },
     "execution_count": 61,
     "metadata": {},
     "output_type": "execute_result"
    }
   ],
   "source": [
    "person2.ParseFromString(serialized)"
   ]
  },
  {
   "cell_type": "code",
   "execution_count": 62,
   "id": "495a355c",
   "metadata": {},
   "outputs": [
    {
     "data": {
      "text/plain": [
       "True"
      ]
     },
     "execution_count": 62,
     "metadata": {},
     "output_type": "execute_result"
    }
   ],
   "source": [
    "person == person2"
   ]
  },
  {
   "cell_type": "code",
   "execution_count": 66,
   "id": "6a0406e7",
   "metadata": {},
   "outputs": [],
   "source": [
    "# person_tf = tf.io.decode_proto(\n",
    "#     bytes=serialized,\n",
    "#     message_type=\"Person\",\n",
    "#     field_names=[\"name\", \"id\", \"email\"],\n",
    "#     output_types=[tf.string, tf.int32, tf.string],\n",
    "#     descriptor_source=\"sample.desc\")\n",
    "\n",
    "# person_tf.values"
   ]
  },
  {
   "cell_type": "code",
   "execution_count": 68,
   "id": "2f652fe3",
   "metadata": {},
   "outputs": [],
   "source": [
    "from tensorflow.train import BytesList, FloatList, Int64List\n",
    "from tensorflow.train import Feature, Features, Example\n",
    "\n",
    "person_example = Example(\n",
    "    features=Features(\n",
    "        feature={\n",
    "            \"name\": Feature(bytes_list=BytesList(value=[b\"Alice\"])),\n",
    "            \"id\": Feature(int64_list=Int64List(value=[123])),\n",
    "            \"emails\": Feature(bytes_list=BytesList(value=[b\"a@b.com\",\n",
    "                                                          b\"c@d.com\"]))\n",
    "        }))"
   ]
  },
  {
   "cell_type": "code",
   "execution_count": 70,
   "id": "63ab21ec",
   "metadata": {},
   "outputs": [
    {
     "name": "stdout",
     "output_type": "stream",
     "text": [
      "b'\\n@\\n\\x1e\\n\\x06emails\\x12\\x14\\n\\x12\\n\\x07a@b.com\\n\\x07c@d.com\\n\\x11\\n\\x04name\\x12\\t\\n\\x07\\n\\x05Alice\\n\\x0b\\n\\x02id\\x12\\x05\\x1a\\x03\\n\\x01{'\n",
      "b'\\n@\\n\\x1e\\n\\x06emails\\x12\\x14\\n\\x12\\n\\x07a@b.com\\n\\x07c@d.com\\n\\x11\\n\\x04name\\x12\\t\\n\\x07\\n\\x05Alice\\n\\x0b\\n\\x02id\\x12\\x05\\x1a\\x03\\n\\x01{'\n",
      "b'\\n@\\n\\x1e\\n\\x06emails\\x12\\x14\\n\\x12\\n\\x07a@b.com\\n\\x07c@d.com\\n\\x11\\n\\x04name\\x12\\t\\n\\x07\\n\\x05Alice\\n\\x0b\\n\\x02id\\x12\\x05\\x1a\\x03\\n\\x01{'\n",
      "b'\\n@\\n\\x1e\\n\\x06emails\\x12\\x14\\n\\x12\\n\\x07a@b.com\\n\\x07c@d.com\\n\\x11\\n\\x04name\\x12\\t\\n\\x07\\n\\x05Alice\\n\\x0b\\n\\x02id\\x12\\x05\\x1a\\x03\\n\\x01{'\n",
      "b'\\n@\\n\\x1e\\n\\x06emails\\x12\\x14\\n\\x12\\n\\x07a@b.com\\n\\x07c@d.com\\n\\x11\\n\\x04name\\x12\\t\\n\\x07\\n\\x05Alice\\n\\x0b\\n\\x02id\\x12\\x05\\x1a\\x03\\n\\x01{'\n"
     ]
    }
   ],
   "source": [
    "with tf.io.TFRecordWriter('my_contacts.tfrecord') as f:\n",
    "    for _ in range(5):\n",
    "        print(person_example.SerializeToString())\n",
    "        f.write(person_example.SerializeToString())"
   ]
  },
  {
   "cell_type": "code",
   "execution_count": 71,
   "id": "959989b4",
   "metadata": {},
   "outputs": [
    {
     "name": "stdout",
     "output_type": "stream",
     "text": [
      "{'emails': SparseTensor(indices=tf.Tensor(\n",
      "[[0]\n",
      " [1]], shape=(2, 1), dtype=int64), values=tf.Tensor([b'a@b.com' b'c@d.com'], shape=(2,), dtype=string), dense_shape=tf.Tensor([2], shape=(1,), dtype=int64)), 'id': <tf.Tensor: shape=(), dtype=int64, numpy=123>, 'name': <tf.Tensor: shape=(), dtype=string, numpy=b'Alice'>}\n",
      "{'emails': SparseTensor(indices=tf.Tensor(\n",
      "[[0]\n",
      " [1]], shape=(2, 1), dtype=int64), values=tf.Tensor([b'a@b.com' b'c@d.com'], shape=(2,), dtype=string), dense_shape=tf.Tensor([2], shape=(1,), dtype=int64)), 'id': <tf.Tensor: shape=(), dtype=int64, numpy=123>, 'name': <tf.Tensor: shape=(), dtype=string, numpy=b'Alice'>}\n",
      "{'emails': SparseTensor(indices=tf.Tensor(\n",
      "[[0]\n",
      " [1]], shape=(2, 1), dtype=int64), values=tf.Tensor([b'a@b.com' b'c@d.com'], shape=(2,), dtype=string), dense_shape=tf.Tensor([2], shape=(1,), dtype=int64)), 'id': <tf.Tensor: shape=(), dtype=int64, numpy=123>, 'name': <tf.Tensor: shape=(), dtype=string, numpy=b'Alice'>}\n",
      "{'emails': SparseTensor(indices=tf.Tensor(\n",
      "[[0]\n",
      " [1]], shape=(2, 1), dtype=int64), values=tf.Tensor([b'a@b.com' b'c@d.com'], shape=(2,), dtype=string), dense_shape=tf.Tensor([2], shape=(1,), dtype=int64)), 'id': <tf.Tensor: shape=(), dtype=int64, numpy=123>, 'name': <tf.Tensor: shape=(), dtype=string, numpy=b'Alice'>}\n",
      "{'emails': SparseTensor(indices=tf.Tensor(\n",
      "[[0]\n",
      " [1]], shape=(2, 1), dtype=int64), values=tf.Tensor([b'a@b.com' b'c@d.com'], shape=(2,), dtype=string), dense_shape=tf.Tensor([2], shape=(1,), dtype=int64)), 'id': <tf.Tensor: shape=(), dtype=int64, numpy=123>, 'name': <tf.Tensor: shape=(), dtype=string, numpy=b'Alice'>}\n"
     ]
    }
   ],
   "source": [
    "feature_description = {\n",
    "    'name' : tf.io.FixedLenFeature([],tf.string,default_value=''),\n",
    "    'id' : tf.io.FixedLenFeature([],tf.int64,default_value=0),\n",
    "    'emails' : tf.io.VarLenFeature(tf.string)\n",
    "}\n",
    "\n",
    "def parse(serialized_example):\n",
    "    return tf.io.parse_single_example(serialized_example,feature_description)\n",
    "\n",
    "dataset = tf.data.TFRecordDataset(['my_contacts.tfrecord']).map(parse)\n",
    "\n",
    "for parsed_example in dataset:\n",
    "    print(parsed_example)"
   ]
  },
  {
   "cell_type": "code",
   "execution_count": null,
   "id": "8eb8c3a1",
   "metadata": {},
   "outputs": [],
   "source": []
  },
  {
   "cell_type": "code",
   "execution_count": null,
   "id": "e999369d",
   "metadata": {},
   "outputs": [],
   "source": []
  }
 ],
 "metadata": {
  "kernelspec": {
   "display_name": "ml-venv",
   "language": "python",
   "name": "python3"
  },
  "language_info": {
   "codemirror_mode": {
    "name": "ipython",
    "version": 3
   },
   "file_extension": ".py",
   "mimetype": "text/x-python",
   "name": "python",
   "nbconvert_exporter": "python",
   "pygments_lexer": "ipython3",
   "version": "3.12.3"
  }
 },
 "nbformat": 4,
 "nbformat_minor": 5
}
